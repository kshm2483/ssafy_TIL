{
 "cells": [
  {
   "cell_type": "markdown",
   "metadata": {},
   "source": [
    "### bubble sort\n",
    "\n",
    ">시간복잡도 : O(n^2)\n",
    "\n",
    ">두 인접한 원소를 검사하여 정렬하는 방법"
   ]
  },
  {
   "cell_type": "code",
   "execution_count": 15,
   "metadata": {},
   "outputs": [],
   "source": [
    "def Bubble_Sort(x):\n",
    "    for i in range(len(x) - 1):\n",
    "        for j in range(len(x) - 1 - i):\n",
    "            if x[j] > x[j+1]:\n",
    "                x[j], x[j+1] = x[j+1], x[j]\n",
    "    return x"
   ]
  },
  {
   "cell_type": "code",
   "execution_count": 17,
   "metadata": {},
   "outputs": [
    {
     "data": {
      "text/plain": [
       "[1, 3, 4, 5, 7, 8, 9]"
      ]
     },
     "execution_count": 17,
     "metadata": {},
     "output_type": "execute_result"
    }
   ],
   "source": [
    "bubblesort([3,7,4,5,1,9,8])"
   ]
  },
  {
   "cell_type": "markdown",
   "metadata": {},
   "source": [
    "### counting sort\n",
    ">시간복잡도 : O(n+k)\n",
    "\n",
    ">배열을 사용하는 특성상, 정수만 가능하며, k가 낮아야 효율이 좋음"
   ]
  },
  {
   "cell_type": "code",
   "execution_count": 6,
   "metadata": {},
   "outputs": [],
   "source": [
    "def CountingSort(A, B, k):\n",
    "    C = [0] * k\n",
    "    \n",
    "    for i in range(0, len(B)):\n",
    "        C[A[i]] += 1\n",
    "\n",
    "    for i in range(1, len(C)):\n",
    "        C[i] += C[i-1]\n",
    "\n",
    "    for i in range(len(B)-1, -1, -1):\n",
    "        B[C[A[i]]-1] =A[i]\n",
    "        C[A[i]] -= 1"
   ]
  },
  {
   "cell_type": "code",
   "execution_count": 7,
   "metadata": {},
   "outputs": [
    {
     "name": "stdout",
     "output_type": "stream",
     "text": [
      "[0, 1, 1, 1, 2, 3, 4, 4]\n"
     ]
    }
   ],
   "source": [
    "a = [0,4,1,3,1,2,4,1]\n",
    "b = [0] *len(a)\n",
    "CountingSort(a, b, 5)\n",
    "print(b)"
   ]
  }
 ],
 "metadata": {
  "kernelspec": {
   "display_name": "Python 3",
   "language": "python",
   "name": "python3"
  },
  "language_info": {
   "codemirror_mode": {
    "name": "ipython",
    "version": 3
   },
   "file_extension": ".py",
   "mimetype": "text/x-python",
   "name": "python",
   "nbconvert_exporter": "python",
   "pygments_lexer": "ipython3",
   "version": "3.6.7"
  }
 },
 "nbformat": 4,
 "nbformat_minor": 2
}
